{
 "cells": [
  {
   "cell_type": "code",
   "execution_count": 1,
   "metadata": {},
   "outputs": [],
   "source": [
    "import requests"
   ]
  },
  {
   "cell_type": "code",
   "execution_count": 2,
   "metadata": {},
   "outputs": [],
   "source": [
    "from flask import json,jsonify, json_available"
   ]
  },
  {
   "cell_type": "code",
   "execution_count": 103,
   "metadata": {},
   "outputs": [],
   "source": [
    "def grofers(product,cityInfo):\n",
    "    payload = {\n",
    "        'lat' : cityInfo['lat'],\n",
    "        'lon' : cityInfo['lon'],\n",
    "        'q' : \"Tata Sampann \" + product,\n",
    "        'start' : 0,\n",
    "        'size' : 48\n",
    "    }\n",
    "    headers = {\n",
    "        'auth_key': \"6d7aa42b20b9e9cd73b0d58d2b91eabb19a960b8ec24d26f51f8360d3aeb9931\",\n",
    "        'referer': \"https://grofers.com/s/?q=tata+sampann+rice&suggestion_type=0&t=1\",\n",
    "        'Accept-Encoding': \"gzip\",\n",
    "        'Accept-language': \"en-IN,en-GB;q=0.9,en-US;q=0.8,en;q=0.7\",\n",
    "        'app_client': \"consumer_web\",\n",
    "        'Content-Type': \"application/json\",\n",
    "        'Cache-Control': \"no-cache\",\n",
    "    }\n",
    "    r = requests.get(\"https://grofers.com/v5/search/merchants/26015/products/\", headers = headers, params = payload)\n",
    "    r = r.json()\n",
    "    print(r.keys())\n",
    "    response = {}\n",
    "    response['category'] = 'Grofers'\n",
    "    items = []\n",
    "    for product in r['products']:\n",
    "        item = {}\n",
    "        url = product['name'].replace(\"\\\\\",\"\").replace(\"/\",\"\").replace(\" \",\"_\").lower()\n",
    "        item['name'] = product['name']\n",
    "        item['cost'] = product['price']\n",
    "        item['unit'] = product['unit']\n",
    "        item['image_url'] = product['image_url']\n",
    "        item['purchase_link'] = \"https://grofers.com/prn/\" + url + \"/prid/\" + str(product['default_product_id'])\n",
    "        items.append(item)\n",
    "    response['items'] = items\n",
    "    return response        "
   ]
  },
  {
   "cell_type": "code",
   "execution_count": 76,
   "metadata": {},
   "outputs": [],
   "source": [
    "def getAddressDetails(pincode):\n",
    "    if(str(pincode) in cityInfo):\n",
    "        return cityInfo[str(pincode)]\n",
    "    else:\n",
    "        return None"
   ]
  },
  {
   "cell_type": "code",
   "execution_count": 38,
   "metadata": {},
   "outputs": [],
   "source": [
    "import pandas as pd"
   ]
  },
  {
   "cell_type": "code",
   "execution_count": 42,
   "metadata": {},
   "outputs": [],
   "source": [
    "df = open(\"/Users/yuvraj/Downloads/IN/IN.txt\").read().split(\"\\n\")\n"
   ]
  },
  {
   "cell_type": "code",
   "execution_count": 74,
   "metadata": {},
   "outputs": [],
   "source": [
    "cityInfo= {}\n",
    "for d in df:\n",
    "    if(len(d) > 0):\n",
    "        d = d.split(\"\\t\")\n",
    "        cityInfo[d[1]] = {}\n",
    "        cityInfo[d[1]]['city'] = d[5]\n",
    "        cityInfo[d[1]]['state'] = d[3]\n",
    "        cityInfo[d[1]]['area'] = d[2]\n",
    "        cityInfo[d[1]]['lat'] = d[-3]\n",
    "        cityInfo[d[1]]['lon'] = d[-2]"
   ]
  },
  {
   "cell_type": "code",
   "execution_count": 122,
   "metadata": {},
   "outputs": [],
   "source": [
    "def bigBasket(product):\n",
    "    slug = \"tata sampann \" + product\n",
    "    payload = {\n",
    "        \"slug\" : slug,\n",
    "        \"type\" : \"deck\"\n",
    "    }\n",
    "    r = requests.get(\"https://www.bigbasket.com/custompage/getsearchdata/?slug=tata%20sampann%20masala&type=deck\")\n",
    "    r = r.json()\n",
    "    \n",
    "    response = {}\n",
    "    response['category'] = \"Big Basket\"\n",
    "    items = []\n",
    "    products = r['json_data']['tab_info'][0]['product_info']['products']\n",
    "    for product in products:\n",
    "        item = {}\n",
    "        item['name'] = product['pc_n'] + product['p_desc']\n",
    "        item['cost'] = product['sp']\n",
    "        item['unit'] = product['w']\n",
    "        item['purchase_url'] = 'https://www.bigbasket.com/pd/' + str(product['sku'])\n",
    "        item['image_url'] = product['p_img_url']\n",
    "        items.append(item)\n",
    "    response['items'] = items\n",
    "    return response"
   ]
  },
  {
   "cell_type": "code",
   "execution_count": 249,
   "metadata": {},
   "outputs": [],
   "source": [
    "import sqlite3"
   ]
  },
  {
   "cell_type": "code",
   "execution_count": 276,
   "metadata": {},
   "outputs": [
    {
     "data": {
      "text/plain": [
       "<sqlite3.Cursor at 0x108900b90>"
      ]
     },
     "execution_count": 276,
     "metadata": {},
     "output_type": "execute_result"
    }
   ],
   "source": [
    "conn = sqlite3.connect('ideathon_mma.db')\n",
    "conn.execute(\"drop table if exists stores\")\n",
    "conn.execute(\"drop table if exists products\")\n",
    "conn.execute(\"drop table if exists store_product_map\")"
   ]
  },
  {
   "cell_type": "code",
   "execution_count": 277,
   "metadata": {},
   "outputs": [
    {
     "data": {
      "text/plain": [
       "<sqlite3.Cursor at 0x1089009d0>"
      ]
     },
     "execution_count": 277,
     "metadata": {},
     "output_type": "execute_result"
    }
   ],
   "source": [
    "conn.execute(\"create table stores (id int,name text,address text,city text,state text,pin int)\")"
   ]
  },
  {
   "cell_type": "code",
   "execution_count": 278,
   "metadata": {},
   "outputs": [],
   "source": [
    "stores = open(\"/Users/yuvraj/Development/Hackathons/ideathon_mma/product_comparison/stores.csv\").read().rstrip().split(\"\\n\")"
   ]
  },
  {
   "cell_type": "code",
   "execution_count": 279,
   "metadata": {},
   "outputs": [
    {
     "name": "stdout",
     "output_type": "stream",
     "text": [
      "['1,Big Bazaar,Meenakshi Mall Hulimavu,Bangalore,Karnataka,560076', '2,Hyper City,Vega City Mall JP Nagar,Bangalore,Karnataka,560076', '3,MK Ahmed Super Market,JP Nagar 3rd Phase,Bangalore, Karnataka,560076', '4,DreamMart,Arekere MICO Layout Stage 2,Bangalore,Karnataka,560076', '5,Ramaiyah Provisions,BTM Layout Stage 2,Bangalore,Karnataka,560076']\n"
     ]
    }
   ],
   "source": [
    "print(stores)"
   ]
  },
  {
   "cell_type": "code",
   "execution_count": 280,
   "metadata": {},
   "outputs": [],
   "source": [
    "stores = [tuple(store.split(\",\")) for store in stores]"
   ]
  },
  {
   "cell_type": "code",
   "execution_count": 281,
   "metadata": {},
   "outputs": [],
   "source": [
    "conn.execute(\"create table products (id int,name text,price int ,unit text,description text)\")\n",
    "products = open(\"/Users/yuvraj/Development/Hackathons/ideathon_mma/product_comparison/products.csv\").read().rstrip().split(\"\\n\")\n",
    "products = [tuple(product.split(\",\")) for product in products]\n"
   ]
  },
  {
   "cell_type": "code",
   "execution_count": 282,
   "metadata": {},
   "outputs": [],
   "source": [
    "conn.execute(\"create table store_product_map (id int,store_id int, product_id int)\")\n",
    "inv = open(\"/Users/yuvraj/Development/Hackathons/ideathon_mma/product_comparison/store_inventory.csv\").read().rstrip().split(\"\\n\")\n",
    "inv = [tuple(inventory.split(\",\")) for inventory in inv]"
   ]
  },
  {
   "cell_type": "code",
   "execution_count": 283,
   "metadata": {},
   "outputs": [
    {
     "data": {
      "text/plain": [
       "<sqlite3.Cursor at 0x1089007a0>"
      ]
     },
     "execution_count": 283,
     "metadata": {},
     "output_type": "execute_result"
    }
   ],
   "source": [
    "conn.executemany(\"insert into stores values (?,?,?,?,?,?)\",stores)\n",
    "conn.executemany(\"insert into products values (?,?,?,?,?)\",products)\n",
    "conn.executemany(\"insert into store_product_map values (?,?,?)\",inv)"
   ]
  },
  {
   "cell_type": "code",
   "execution_count": 284,
   "metadata": {},
   "outputs": [],
   "source": [
    "conn.commit()"
   ]
  },
  {
   "cell_type": "code",
   "execution_count": 285,
   "metadata": {},
   "outputs": [
    {
     "name": "stdout",
     "output_type": "stream",
     "text": [
      "[{'name': 'Tata Sampann Organic Toor Daal', 'price': 95, 'store_name': 'Big Bazaar', 'store_address': 'Meenakshi Mall Hulimavu Bangalore Karnataka'}, {'name': 'Tata Sampann Organic Toor Daal', 'price': 95, 'store_name': 'Hyper City', 'store_address': 'Vega City Mall JP Nagar Bangalore Karnataka'}, {'name': 'Tata Sampann Organic Toor Daal', 'price': 95, 'store_name': 'MK Ahmed Super Market', 'store_address': 'JP Nagar 3rd Phase Bangalore  Karnataka'}, {'name': 'Tata Sampann Organic Toor Daal', 'price': 95, 'store_name': 'DreamMart', 'store_address': 'Arekere MICO Layout Stage 2 Bangalore Karnataka'}, {'name': 'Tata Sampann Organic Toor Daal', 'price': 95, 'store_name': 'Ramaiyah Provisions', 'store_address': 'BTM Layout Stage 2 Bangalore Karnataka'}]\n"
     ]
    }
   ],
   "source": [
    "query = \"SELECT * FROM store_product_map map join stores s, products p \"\n",
    "query = query + \" on s.id = map.store_id and p.id = map.product_id\"\n",
    "query = query + \" where p.name like ? limit 5\"\n",
    "items = []\n",
    "param = (\"%Toor%\",)\n",
    "for row in conn.execute(query,param):\n",
    "        item = {}\n",
    "        item['name'] = row[10]\n",
    "        item['price'] = row[11]\n",
    "        item['store_name'] = row[4]\n",
    "        item['store_address'] = \" \".join(row[5:8])\n",
    "        items.append(item)\n",
    "print(items)"
   ]
  },
  {
   "cell_type": "code",
   "execution_count": 289,
   "metadata": {},
   "outputs": [],
   "source": [
    "def getProducts(search_val):\n",
    "    query = \"SELECT * FROM store_product_map map join stores s, products p \"\n",
    "    query = query + \" on s.id = map.store_id and p.id = map.product_id\"\n",
    "    query = query + \" where p.name like ? limit 5\"\n",
    "    param = (\"%\" + search_val + \"%\",)\n",
    "    items = []\n",
    "    for row in conn.execute(query,param):\n",
    "        item = {}\n",
    "        item['name'] = row[10]\n",
    "        item['price'] = row[11]\n",
    "        item['store_name'] = row[4]\n",
    "        item['store_address'] = \" \".join(row[5:8])\n",
    "        items.append(item)\n",
    "    return items"
   ]
  },
  {
   "cell_type": "code",
   "execution_count": 247,
   "metadata": {},
   "outputs": [],
   "source": [
    "conn.close()"
   ]
  },
  {
   "cell_type": "code",
   "execution_count": 290,
   "metadata": {},
   "outputs": [
    {
     "data": {
      "text/plain": [
       "[{'name': 'Tata Sampann Organic Toor Daal',\n",
       "  'price': 95,\n",
       "  'store_name': 'Big Bazaar',\n",
       "  'store_address': 'Meenakshi Mall Hulimavu Bangalore Karnataka'},\n",
       " {'name': 'Tata Sampann Organic Toor Daal',\n",
       "  'price': 95,\n",
       "  'store_name': 'Hyper City',\n",
       "  'store_address': 'Vega City Mall JP Nagar Bangalore Karnataka'},\n",
       " {'name': 'Tata Sampann Organic Toor Daal',\n",
       "  'price': 95,\n",
       "  'store_name': 'MK Ahmed Super Market',\n",
       "  'store_address': 'JP Nagar 3rd Phase Bangalore  Karnataka'},\n",
       " {'name': 'Tata Sampann Organic Toor Daal',\n",
       "  'price': 95,\n",
       "  'store_name': 'DreamMart',\n",
       "  'store_address': 'Arekere MICO Layout Stage 2 Bangalore Karnataka'},\n",
       " {'name': 'Tata Sampann Organic Toor Daal',\n",
       "  'price': 95,\n",
       "  'store_name': 'Ramaiyah Provisions',\n",
       "  'store_address': 'BTM Layout Stage 2 Bangalore Karnataka'}]"
      ]
     },
     "execution_count": 290,
     "metadata": {},
     "output_type": "execute_result"
    }
   ],
   "source": [
    "getProducts(\"toor daal\")"
   ]
  },
  {
   "cell_type": "code",
   "execution_count": 293,
   "metadata": {},
   "outputs": [
    {
     "name": "stdout",
     "output_type": "stream",
     "text": [
      "dict_keys(['merchant', 'meta', 'products', 'widget_response', 'widgets', 'change_store_uri', 'categories'])\n"
     ]
    },
    {
     "data": {
      "text/plain": [
       "{'category': 'Grofers',\n",
       " 'items': [{'name': 'Tata Sampann Unpolished Arhar Dal/Toor Dal',\n",
       "   'cost': 90,\n",
       "   'unit': '1 kg',\n",
       "   'image_url': 'https://cdn.grofers.com/app/images/products/normal/pro_39493.jpg',\n",
       "   'purchase_link': 'https://grofers.com/prn/tata_sampann_unpolished_arhar_daltoor_dal/prid/39493'},\n",
       "  {'name': 'Tata Sampann Besan',\n",
       "   'cost': 37,\n",
       "   'unit': '500 gm',\n",
       "   'image_url': 'https://cdn.grofers.com/app/images/products/normal/pro_15486.jpg',\n",
       "   'purchase_link': 'https://grofers.com/prn/tata_sampann_besan/prid/15486'},\n",
       "  {'name': 'Tata Sampann Unpolished Yellow Moong Dal',\n",
       "   'cost': 105,\n",
       "   'unit': '1 kg',\n",
       "   'image_url': 'https://cdn.grofers.com/app/images/products/normal/pro_23742.jpg',\n",
       "   'purchase_link': 'https://grofers.com/prn/tata_sampann_unpolished_yellow_moong_dal/prid/23742'},\n",
       "  {'name': 'Tata Sampann Chana Dal',\n",
       "   'cost': 71,\n",
       "   'unit': '1 kg',\n",
       "   'image_url': 'https://cdn.grofers.com/app/images/products/normal/pro_299087.jpg',\n",
       "   'purchase_link': 'https://grofers.com/prn/tata_sampann_chana_dal/prid/299087'},\n",
       "  {'name': 'Tata Sampann Red Masoor Dal',\n",
       "   'cost': 77,\n",
       "   'unit': '1 kg',\n",
       "   'image_url': 'https://cdn.grofers.com/app/images/products/normal/pro_89120.jpg',\n",
       "   'purchase_link': 'https://grofers.com/prn/tata_sampann_red_masoor_dal/prid/89120'},\n",
       "  {'name': 'Tata Sampann Dhuli White Urad Dal',\n",
       "   'cost': 46,\n",
       "   'unit': '500 gm',\n",
       "   'image_url': 'https://cdn.grofers.com/app/images/products/normal/pro_289033.jpg',\n",
       "   'purchase_link': 'https://grofers.com/prn/tata_sampann_dhuli_white_urad_dal/prid/289033'},\n",
       "  {'name': 'Tata Sampann Chilka/Split Unpolished Green Moong Dal',\n",
       "   'cost': 53,\n",
       "   'unit': '500 gm',\n",
       "   'image_url': 'https://cdn.grofers.com/app/images/products/normal/pro_34819.jpg?1476174836',\n",
       "   'purchase_link': 'https://grofers.com/prn/tata_sampann_chilkasplit_unpolished_green_moong_dal/prid/34819'},\n",
       "  {'name': 'Tata Sampann Kitchen King Masala',\n",
       "   'cost': 35,\n",
       "   'unit': '100 gm',\n",
       "   'image_url': 'https://cdn.grofers.com/app/images/products/normal/pro_184907.jpg?ts=1531253057',\n",
       "   'purchase_link': 'https://grofers.com/prn/tata_sampann_kitchen_king_masala/prid/184907'},\n",
       "  {'name': 'Tata Sampann Garam Masala',\n",
       "   'cost': 40,\n",
       "   'unit': '100 gm',\n",
       "   'image_url': 'https://cdn.grofers.com/app/images/products/normal/pro_184908.jpg',\n",
       "   'purchase_link': 'https://grofers.com/prn/tata_sampann_garam_masala/prid/184908'},\n",
       "  {'name': 'Tata Sampann Turmeric Powder/Haldi',\n",
       "   'cost': 41,\n",
       "   'unit': '200 gm',\n",
       "   'image_url': 'https://cdn.grofers.com/app/images/products/normal/pro_210169.jpg',\n",
       "   'purchase_link': 'https://grofers.com/prn/tata_sampann_turmeric_powderhaldi/prid/210169'},\n",
       "  {'name': 'Tata Sampann Meat Masala',\n",
       "   'cost': 37,\n",
       "   'unit': '100 gm',\n",
       "   'image_url': 'https://cdn.grofers.com/app/images/products/normal/pro_185990.jpg?ts=1531253058',\n",
       "   'purchase_link': 'https://grofers.com/prn/tata_sampann_meat_masala/prid/185990'}]}"
      ]
     },
     "execution_count": 293,
     "metadata": {},
     "output_type": "execute_result"
    }
   ],
   "source": [
    "grofers(\"daal\",cityInfo['560076'])"
   ]
  },
  {
   "cell_type": "code",
   "execution_count": 294,
   "metadata": {},
   "outputs": [
    {
     "data": {
      "text/plain": [
       "{'category': 'Big Basket',\n",
       " 'items': [{'name': 'Blended MasalasMasala - Paneer',\n",
       "   'cost': '33.60',\n",
       "   'unit': '45 gm',\n",
       "   'purchase_url': 'https://www.bigbasket.com/pd/40095115',\n",
       "   'image_url': 'https://www.bigbasket.com/media/uploads/p/s/40095115_1-tata-sampann-masala-paneer.jpg'},\n",
       "  {'name': 'Powdered SpicesMasala - Dal Tadka',\n",
       "   'cost': '48.00',\n",
       "   'unit': '100 gm',\n",
       "   'purchase_url': 'https://www.bigbasket.com/pd/40070775',\n",
       "   'image_url': 'https://www.bigbasket.com/media/uploads/p/s/40070775_2-tata-sampann-masala-dal-tadka.jpg'},\n",
       "  {'name': 'Blended MasalasMasala - Pav Bhaji',\n",
       "   'cost': '57.60',\n",
       "   'unit': '100 gm',\n",
       "   'purchase_url': 'https://www.bigbasket.com/pd/40095119',\n",
       "   'image_url': 'https://www.bigbasket.com/media/uploads/p/s/40095119_1-tata-sampann-masala-pav-bhaji.jpg'},\n",
       "  {'name': 'Powdered SpicesGaram Masala',\n",
       "   'cost': '65.60',\n",
       "   'unit': '100 gm',\n",
       "   'purchase_url': 'https://www.bigbasket.com/pd/40070774',\n",
       "   'image_url': 'https://www.bigbasket.com/media/uploads/p/s/40070774_2-tata-sampann-garam-masala.jpg'},\n",
       "  {'name': 'Blended MasalasMasala - Dal Tadka',\n",
       "   'cost': '25.60',\n",
       "   'unit': '45 gm',\n",
       "   'purchase_url': 'https://www.bigbasket.com/pd/40095117',\n",
       "   'image_url': 'https://www.bigbasket.com/media/uploads/p/s/40095117_1-tata-sampann-masala-dal-tadka.jpg'},\n",
       "  {'name': 'Powdered SpicesPowder - Coriander',\n",
       "   'cost': '119.20',\n",
       "   'unit': '500 gm',\n",
       "   'purchase_url': 'https://www.bigbasket.com/pd/40095123',\n",
       "   'image_url': 'https://www.bigbasket.com/media/uploads/p/s/40095123_1-tata-sampann-powder-coriander.jpg'},\n",
       "  {'name': 'Powdered SpicesMasala - Meat',\n",
       "   'cost': '60.00',\n",
       "   'unit': '100 gm',\n",
       "   'purchase_url': 'https://www.bigbasket.com/pd/40070776',\n",
       "   'image_url': 'https://www.bigbasket.com/media/uploads/p/s/40070776_2-tata-sampann-masala-meat.jpg'},\n",
       "  {'name': 'Powdered SpicesPowder - Chilli',\n",
       "   'cost': '26.40',\n",
       "   'unit': '100 gm',\n",
       "   'purchase_url': 'https://www.bigbasket.com/pd/40070768',\n",
       "   'image_url': 'https://www.bigbasket.com/media/uploads/p/s/40070768_2-tata-sampann-powder-chilli.jpg'},\n",
       "  {'name': 'Blended MasalasMasala - Pav Bhaji',\n",
       "   'cost': '29.60',\n",
       "   'unit': '45 gm',\n",
       "   'purchase_url': 'https://www.bigbasket.com/pd/40095118',\n",
       "   'image_url': 'https://www.bigbasket.com/media/uploads/p/s/40095118_1-tata-sampann-masala-pav-bhaji.jpg'},\n",
       "  {'name': 'Powdered SpicesMasala - Chicken',\n",
       "   'cost': '10.00',\n",
       "   'unit': '15 gm',\n",
       "   'purchase_url': 'https://www.bigbasket.com/pd/40070762',\n",
       "   'image_url': 'https://www.bigbasket.com/media/uploads/p/s/40070762_1-tata-sampann-masala-chicken.jpg'},\n",
       "  {'name': 'Powdered SpicesPowder - Turmeric',\n",
       "   'cost': '24.00',\n",
       "   'unit': '100 gm',\n",
       "   'purchase_url': 'https://www.bigbasket.com/pd/40070758',\n",
       "   'image_url': 'https://www.bigbasket.com/media/uploads/p/s/40070758_2-tata-sampann-powder-turmeric.jpg'},\n",
       "  {'name': 'Powdered SpicesPowder - Coriander',\n",
       "   'cost': '49.60',\n",
       "   'unit': '200 gm',\n",
       "   'purchase_url': 'https://www.bigbasket.com/pd/40070759',\n",
       "   'image_url': 'https://www.bigbasket.com/media/uploads/p/s/40070759_1-tata-sampann-powder-coriander.jpg'},\n",
       "  {'name': 'Powdered SpicesPowder - Chilli',\n",
       "   'cost': '128.00',\n",
       "   'unit': '500 gm',\n",
       "   'purchase_url': 'https://www.bigbasket.com/pd/40095121',\n",
       "   'image_url': 'https://www.bigbasket.com/media/uploads/p/s/40095121_1-tata-sampann-powder-chilli.jpg'},\n",
       "  {'name': 'Powdered SpicesPowder - Turmeric',\n",
       "   'cost': '112.00',\n",
       "   'unit': '500 gm',\n",
       "   'purchase_url': 'https://www.bigbasket.com/pd/40095122',\n",
       "   'image_url': 'https://www.bigbasket.com/media/uploads/p/s/40095122_1-tata-sampann-powder-turmeric.jpg'},\n",
       "  {'name': 'Powdered SpicesPowder - Chilli 500G + Powder - Turmeric 500G + Powder - Coriander 500G',\n",
       "   'cost': '359.20',\n",
       "   'unit': 'Combo',\n",
       "   'purchase_url': 'https://www.bigbasket.com/pd/1203523',\n",
       "   'image_url': 'https://www.bigbasket.com/media/uploads/p/s/1203523_4-tata-sampann-powder-chilli-500g-powder-turmeric-500g-powder-coriander-500g.jpg'},\n",
       "  {'name': 'Powdered SpicesPowder - Turmeric 200G + Powder - Coriander 200G + Powder - Chilli 200G',\n",
       "   'cost': '148.80',\n",
       "   'unit': 'Combo',\n",
       "   'purchase_url': 'https://www.bigbasket.com/pd/1203524',\n",
       "   'image_url': 'https://www.bigbasket.com/media/uploads/p/s/1203524_4-tata-sampann-powder-turmeric-200g-powder-coriander-200g-powder-chilli-200g.jpg'},\n",
       "  {'name': 'Blended MasalasMasala - Kitchen King',\n",
       "   'cost': '28.00',\n",
       "   'unit': '45 gm',\n",
       "   'purchase_url': 'https://www.bigbasket.com/pd/40095116',\n",
       "   'image_url': 'https://www.bigbasket.com/media/uploads/p/s/40095116_1-tata-sampann-masala-kitchen-king.jpg'},\n",
       "  {'name': 'Powdered SpicesMasala - Punjabi Chhole',\n",
       "   'cost': '51.20',\n",
       "   'unit': '100 gm',\n",
       "   'purchase_url': 'https://www.bigbasket.com/pd/40070772',\n",
       "   'image_url': 'https://www.bigbasket.com/media/uploads/p/s/40070772_1-tata-sampann-masala-punjabi-chhole.jpg'},\n",
       "  {'name': 'Powdered SpicesMasala - Kitchen King',\n",
       "   'cost': '56.00',\n",
       "   'unit': '100 gm',\n",
       "   'purchase_url': 'https://www.bigbasket.com/pd/40070773',\n",
       "   'image_url': 'https://www.bigbasket.com/media/uploads/p/s/40070773_2-tata-sampann-masala-kitchen-king.jpg'}]}"
      ]
     },
     "execution_count": 294,
     "metadata": {},
     "output_type": "execute_result"
    }
   ],
   "source": [
    "bigBasket(\"daal\")"
   ]
  },
  {
   "cell_type": "code",
   "execution_count": 295,
   "metadata": {},
   "outputs": [
    {
     "data": {
      "text/plain": [
       "[{'name': 'Tata Sampann Organic Toor Daal',\n",
       "  'price': 95,\n",
       "  'store_name': 'Big Bazaar',\n",
       "  'store_address': 'Meenakshi Mall Hulimavu Bangalore Karnataka'},\n",
       " {'name': 'Tata Sampann Organic Toor Daal',\n",
       "  'price': 95,\n",
       "  'store_name': 'Hyper City',\n",
       "  'store_address': 'Vega City Mall JP Nagar Bangalore Karnataka'},\n",
       " {'name': 'Tata Sampann Organic Toor Daal',\n",
       "  'price': 95,\n",
       "  'store_name': 'MK Ahmed Super Market',\n",
       "  'store_address': 'JP Nagar 3rd Phase Bangalore  Karnataka'},\n",
       " {'name': 'Tata Sampann Organic Toor Daal',\n",
       "  'price': 95,\n",
       "  'store_name': 'DreamMart',\n",
       "  'store_address': 'Arekere MICO Layout Stage 2 Bangalore Karnataka'},\n",
       " {'name': 'Tata Sampann Organic Toor Daal',\n",
       "  'price': 95,\n",
       "  'store_name': 'Ramaiyah Provisions',\n",
       "  'store_address': 'BTM Layout Stage 2 Bangalore Karnataka'}]"
      ]
     },
     "execution_count": 295,
     "metadata": {},
     "output_type": "execute_result"
    }
   ],
   "source": [
    "getProducts(\"daal\")"
   ]
  },
  {
   "cell_type": "code",
   "execution_count": 298,
   "metadata": {},
   "outputs": [],
   "source": [
    "def getAllProducts(search_term,pincode):\n",
    "    city = cityInfo[str(pincode)]\n",
    "    resp = []\n",
    "    resp.append(grofers(search_term,city))\n",
    "    resp.append(bigBasket(search_term))\n",
    "    resp.append(getProducts(search_term))\n",
    "    return resp"
   ]
  },
  {
   "cell_type": "code",
   "execution_count": 300,
   "metadata": {},
   "outputs": [
    {
     "ename": "UnsupportedOperation",
     "evalue": "not writable",
     "output_type": "error",
     "traceback": [
      "\u001b[0;31m---------------------------------------------------------------------------\u001b[0m",
      "\u001b[0;31mUnsupportedOperation\u001b[0m                      Traceback (most recent call last)",
      "\u001b[0;32m<ipython-input-300-25e368629145>\u001b[0m in \u001b[0;36m<module>\u001b[0;34m()\u001b[0m\n\u001b[1;32m     10\u001b[0m \u001b[0;34m\u001b[0m\u001b[0m\n\u001b[1;32m     11\u001b[0m \u001b[0;32mif\u001b[0m \u001b[0m__name__\u001b[0m \u001b[0;34m==\u001b[0m \u001b[0;34m'__main__'\u001b[0m\u001b[0;34m:\u001b[0m\u001b[0;34m\u001b[0m\u001b[0m\n\u001b[0;32m---> 12\u001b[0;31m     \u001b[0mapp\u001b[0m\u001b[0;34m.\u001b[0m\u001b[0mrun\u001b[0m\u001b[0;34m(\u001b[0m\u001b[0mdebug\u001b[0m\u001b[0;34m=\u001b[0m\u001b[0;32mTrue\u001b[0m\u001b[0;34m)\u001b[0m\u001b[0;34m\u001b[0m\u001b[0m\n\u001b[0m",
      "\u001b[0;32m/anaconda3/lib/python3.6/site-packages/flask/app.py\u001b[0m in \u001b[0;36mrun\u001b[0;34m(self, host, port, debug, load_dotenv, **options)\u001b[0m\n\u001b[1;32m    936\u001b[0m         \u001b[0moptions\u001b[0m\u001b[0;34m.\u001b[0m\u001b[0msetdefault\u001b[0m\u001b[0;34m(\u001b[0m\u001b[0;34m'threaded'\u001b[0m\u001b[0;34m,\u001b[0m \u001b[0;32mTrue\u001b[0m\u001b[0;34m)\u001b[0m\u001b[0;34m\u001b[0m\u001b[0m\n\u001b[1;32m    937\u001b[0m \u001b[0;34m\u001b[0m\u001b[0m\n\u001b[0;32m--> 938\u001b[0;31m         \u001b[0mcli\u001b[0m\u001b[0;34m.\u001b[0m\u001b[0mshow_server_banner\u001b[0m\u001b[0;34m(\u001b[0m\u001b[0mself\u001b[0m\u001b[0;34m.\u001b[0m\u001b[0menv\u001b[0m\u001b[0;34m,\u001b[0m \u001b[0mself\u001b[0m\u001b[0;34m.\u001b[0m\u001b[0mdebug\u001b[0m\u001b[0;34m,\u001b[0m \u001b[0mself\u001b[0m\u001b[0;34m.\u001b[0m\u001b[0mname\u001b[0m\u001b[0;34m,\u001b[0m \u001b[0;32mFalse\u001b[0m\u001b[0;34m)\u001b[0m\u001b[0;34m\u001b[0m\u001b[0m\n\u001b[0m\u001b[1;32m    939\u001b[0m \u001b[0;34m\u001b[0m\u001b[0m\n\u001b[1;32m    940\u001b[0m         \u001b[0;32mfrom\u001b[0m \u001b[0mwerkzeug\u001b[0m\u001b[0;34m.\u001b[0m\u001b[0mserving\u001b[0m \u001b[0;32mimport\u001b[0m \u001b[0mrun_simple\u001b[0m\u001b[0;34m\u001b[0m\u001b[0m\n",
      "\u001b[0;32m/anaconda3/lib/python3.6/site-packages/flask/cli.py\u001b[0m in \u001b[0;36mshow_server_banner\u001b[0;34m(env, debug, app_import_path, eager_loading)\u001b[0m\n\u001b[1;32m    627\u001b[0m             \u001b[0mmessage\u001b[0m \u001b[0;34m+=\u001b[0m \u001b[0;34m' (lazy loading)'\u001b[0m\u001b[0;34m\u001b[0m\u001b[0m\n\u001b[1;32m    628\u001b[0m \u001b[0;34m\u001b[0m\u001b[0m\n\u001b[0;32m--> 629\u001b[0;31m         \u001b[0mclick\u001b[0m\u001b[0;34m.\u001b[0m\u001b[0mecho\u001b[0m\u001b[0;34m(\u001b[0m\u001b[0mmessage\u001b[0m\u001b[0;34m)\u001b[0m\u001b[0;34m\u001b[0m\u001b[0m\n\u001b[0m\u001b[1;32m    630\u001b[0m \u001b[0;34m\u001b[0m\u001b[0m\n\u001b[1;32m    631\u001b[0m     \u001b[0mclick\u001b[0m\u001b[0;34m.\u001b[0m\u001b[0mecho\u001b[0m\u001b[0;34m(\u001b[0m\u001b[0;34m' * Environment: {0}'\u001b[0m\u001b[0;34m.\u001b[0m\u001b[0mformat\u001b[0m\u001b[0;34m(\u001b[0m\u001b[0menv\u001b[0m\u001b[0;34m)\u001b[0m\u001b[0;34m)\u001b[0m\u001b[0;34m\u001b[0m\u001b[0m\n",
      "\u001b[0;32m/anaconda3/lib/python3.6/site-packages/click/utils.py\u001b[0m in \u001b[0;36mecho\u001b[0;34m(message, file, nl, err, color)\u001b[0m\n\u001b[1;32m    257\u001b[0m \u001b[0;34m\u001b[0m\u001b[0m\n\u001b[1;32m    258\u001b[0m     \u001b[0;32mif\u001b[0m \u001b[0mmessage\u001b[0m\u001b[0;34m:\u001b[0m\u001b[0;34m\u001b[0m\u001b[0m\n\u001b[0;32m--> 259\u001b[0;31m         \u001b[0mfile\u001b[0m\u001b[0;34m.\u001b[0m\u001b[0mwrite\u001b[0m\u001b[0;34m(\u001b[0m\u001b[0mmessage\u001b[0m\u001b[0;34m)\u001b[0m\u001b[0;34m\u001b[0m\u001b[0m\n\u001b[0m\u001b[1;32m    260\u001b[0m     \u001b[0mfile\u001b[0m\u001b[0;34m.\u001b[0m\u001b[0mflush\u001b[0m\u001b[0;34m(\u001b[0m\u001b[0;34m)\u001b[0m\u001b[0;34m\u001b[0m\u001b[0m\n\u001b[1;32m    261\u001b[0m \u001b[0;34m\u001b[0m\u001b[0m\n",
      "\u001b[0;31mUnsupportedOperation\u001b[0m: not writable"
     ]
    }
   ],
   "source": [
    "from flask import Flask\n",
    "from flask import request\n",
    "\n",
    "app = Flask(__name__)\n",
    "\n",
    "@app.route('/comparison')\n",
    "def product_comparsion():\n",
    "    search_term = request.args.get('q')\n",
    "    return your_function(search_term)\n",
    "\n",
    "if __name__ == '__main__':\n",
    "    app.run(debug=True)"
   ]
  },
  {
   "cell_type": "code",
   "execution_count": 303,
   "metadata": {},
   "outputs": [
    {
     "name": "stdout",
     "output_type": "stream",
     "text": [
      "(1, 'Tata Sampann Organic Toor Daal', 95, '1 kg', \"Toor dal is a staple in the Indian diet. It's nutritious and can be easily digested. Tata Sampann's Toor Dal has a rich flavour and aroma and provides essential amino acids for complete protein. Used in a variety of soups salads sweets and savouries. Toor dal is an essential in every household.High Protein: Dals or Pulses are known to be one of the best sources of protein. Tata Sampann Dals are unpolished and do not undergo artificial polishing with water oil or leather thereby retaining their goodness and protein content.\")\n"
     ]
    }
   ],
   "source": [
    "conn = sqlite3.connect('ideathon_mma.db')\n",
    "query = \"SELECT * FROM products where name like ? limit 1\"\n",
    "param = (\"%\" + \"Toor\" + \"%\",)\n",
    "item = {}\n",
    "for row in conn.execute(query,param):\n",
    "    print(row)"
   ]
  },
  {
   "cell_type": "code",
   "execution_count": null,
   "metadata": {},
   "outputs": [],
   "source": []
  }
 ],
 "metadata": {
  "kernelspec": {
   "display_name": "Python 3",
   "language": "python",
   "name": "python3"
  },
  "language_info": {
   "codemirror_mode": {
    "name": "ipython",
    "version": 3
   },
   "file_extension": ".py",
   "mimetype": "text/x-python",
   "name": "python",
   "nbconvert_exporter": "python",
   "pygments_lexer": "ipython3",
   "version": "3.6.5"
  }
 },
 "nbformat": 4,
 "nbformat_minor": 2
}
